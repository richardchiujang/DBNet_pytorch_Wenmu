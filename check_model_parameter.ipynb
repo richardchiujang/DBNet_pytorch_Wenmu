{
 "cells": [
  {
   "cell_type": "code",
   "execution_count": 1,
   "metadata": {},
   "outputs": [
    {
     "name": "stderr",
     "output_type": "stream",
     "text": [
      "c:\\Users\\richard\\.conda\\envs\\DBNetOCR\\lib\\site-packages\\tqdm\\auto.py:22: TqdmWarning: IProgress not found. Please update jupyter and ipywidgets. See https://ipywidgets.readthedocs.io/en/stable/user_install.html\n",
      "  from .autonotebook import tqdm as notebook_tqdm\n"
     ]
    }
   ],
   "source": [
    "import io\n",
    "import torch\n",
    "import torch.nn as nn\n",
    "from torchvision import models\n",
    "from PIL import Image\n",
    "import torchvision.transforms as transforms"
   ]
  },
  {
   "cell_type": "code",
   "execution_count": 2,
   "metadata": {},
   "outputs": [],
   "source": [
    "import sys, os\n",
    "import pathlib\n",
    "import argparse\n",
    "import anyconfig\n",
    "from utils import parse_config\n",
    "import torch\n",
    "from models import build_model, build_loss"
   ]
  },
  {
   "cell_type": "code",
   "execution_count": 3,
   "metadata": {},
   "outputs": [],
   "source": [
    "config_file = 'config/icdar2015_resnet18_FPN_DBhead_polyLR.yaml'\n",
    "assert os.path.exists(config_file)\n",
    "config = anyconfig.load(open(config_file, 'rb'))\n",
    "if 'base' in config:\n",
    "    config = parse_config(config)\n",
    "config['arch']['backbone']['in_channels'] = 3 if config['dataset']['train']['dataset']['args']['img_mode'] != 'GRAY' else 1"
   ]
  },
  {
   "cell_type": "code",
   "execution_count": 4,
   "metadata": {},
   "outputs": [
    {
     "data": {
      "text/plain": [
       "{'type': 'Model',\n",
       " 'backbone': {'type': 'resnet18', 'pretrained': True, 'in_channels': 3},\n",
       " 'neck': {'type': 'FPN', 'inner_channels': 256},\n",
       " 'head': {'type': 'DBHead', 'out_channels': 2, 'k': 50}}"
      ]
     },
     "execution_count": 4,
     "metadata": {},
     "output_type": "execute_result"
    }
   ],
   "source": [
    "# config['loss']\n",
    "# config['dataset']\n",
    "# config['dataset']['train']\n",
    "# config['dataset']['validate']\n",
    "config['arch']\n",
    "# config['post_processing']\n",
    "# config['metric']"
   ]
  },
  {
   "cell_type": "code",
   "execution_count": 5,
   "metadata": {},
   "outputs": [
    {
     "name": "stdout",
     "output_type": "stream",
     "text": [
      "load from imagenet\n"
     ]
    }
   ],
   "source": [
    "model = build_model(config['arch'])\n",
    "criterion = build_loss(config['loss'])"
   ]
  },
  {
   "cell_type": "code",
   "execution_count": 6,
   "metadata": {},
   "outputs": [],
   "source": [
    "# print(model)\n",
    "# print(criterion)"
   ]
  },
  {
   "cell_type": "code",
   "execution_count": 14,
   "metadata": {},
   "outputs": [],
   "source": [
    "from torchviz import make_dot"
   ]
  },
  {
   "cell_type": "code",
   "execution_count": 16,
   "metadata": {},
   "outputs": [
    {
     "ename": "TypeError",
     "evalue": "make_dot() got an unexpected keyword argument 'y'",
     "output_type": "error",
     "traceback": [
      "\u001b[1;31m---------------------------------------------------------------------------\u001b[0m",
      "\u001b[1;31mTypeError\u001b[0m                                 Traceback (most recent call last)",
      "Cell \u001b[1;32mIn[16], line 1\u001b[0m\n\u001b[1;32m----> 1\u001b[0m make_dot(y\u001b[39m=\u001b[39;49m\u001b[39m0\u001b[39;49m,params\u001b[39m=\u001b[39;49m\u001b[39mdict\u001b[39;49m(model\u001b[39m.\u001b[39;49mnamed_parameters()))\n",
      "\u001b[1;31mTypeError\u001b[0m: make_dot() got an unexpected keyword argument 'y'"
     ]
    }
   ],
   "source": [
    "make_dot(y=0,params=dict(model.named_parameters()))"
   ]
  },
  {
   "cell_type": "code",
   "execution_count": null,
   "metadata": {},
   "outputs": [],
   "source": []
  },
  {
   "cell_type": "code",
   "execution_count": null,
   "metadata": {},
   "outputs": [],
   "source": []
  },
  {
   "cell_type": "code",
   "execution_count": 10,
   "metadata": {},
   "outputs": [],
   "source": [
    "checkpoint_path = 'output/DBNet_resnet18_FPN_DBHead/checkpoint/model_best.pth'\n",
    "pretrained_weights = torch.load(checkpoint_path, map_location='cpu')\n",
    "# pretrained_weights['config']"
   ]
  },
  {
   "cell_type": "code",
   "execution_count": 13,
   "metadata": {},
   "outputs": [
    {
     "name": "stdout",
     "output_type": "stream",
     "text": [
      "backbone.conv1.weight\n",
      "backbone.bn1.weight\n",
      "backbone.bn1.bias\n",
      "backbone.bn1.running_mean\n",
      "backbone.bn1.running_var\n",
      "backbone.bn1.num_batches_tracked\n",
      "backbone.layer1.0.conv1.weight\n",
      "backbone.layer1.0.bn1.weight\n",
      "backbone.layer1.0.bn1.bias\n",
      "backbone.layer1.0.bn1.running_mean\n",
      "backbone.layer1.0.bn1.running_var\n",
      "backbone.layer1.0.bn1.num_batches_tracked\n",
      "backbone.layer1.0.conv2.weight\n",
      "backbone.layer1.0.bn2.weight\n",
      "backbone.layer1.0.bn2.bias\n",
      "backbone.layer1.0.bn2.running_mean\n",
      "backbone.layer1.0.bn2.running_var\n",
      "backbone.layer1.0.bn2.num_batches_tracked\n",
      "backbone.layer1.1.conv1.weight\n",
      "backbone.layer1.1.bn1.weight\n",
      "backbone.layer1.1.bn1.bias\n",
      "backbone.layer1.1.bn1.running_mean\n",
      "backbone.layer1.1.bn1.running_var\n",
      "backbone.layer1.1.bn1.num_batches_tracked\n",
      "backbone.layer1.1.conv2.weight\n",
      "backbone.layer1.1.bn2.weight\n",
      "backbone.layer1.1.bn2.bias\n",
      "backbone.layer1.1.bn2.running_mean\n",
      "backbone.layer1.1.bn2.running_var\n",
      "backbone.layer1.1.bn2.num_batches_tracked\n",
      "backbone.layer2.0.conv1.weight\n",
      "backbone.layer2.0.bn1.weight\n",
      "backbone.layer2.0.bn1.bias\n",
      "backbone.layer2.0.bn1.running_mean\n",
      "backbone.layer2.0.bn1.running_var\n",
      "backbone.layer2.0.bn1.num_batches_tracked\n",
      "backbone.layer2.0.conv2.weight\n",
      "backbone.layer2.0.bn2.weight\n",
      "backbone.layer2.0.bn2.bias\n",
      "backbone.layer2.0.bn2.running_mean\n",
      "backbone.layer2.0.bn2.running_var\n",
      "backbone.layer2.0.bn2.num_batches_tracked\n",
      "backbone.layer2.0.downsample.0.weight\n",
      "backbone.layer2.0.downsample.1.weight\n",
      "backbone.layer2.0.downsample.1.bias\n",
      "backbone.layer2.0.downsample.1.running_mean\n",
      "backbone.layer2.0.downsample.1.running_var\n",
      "backbone.layer2.0.downsample.1.num_batches_tracked\n",
      "backbone.layer2.1.conv1.weight\n",
      "backbone.layer2.1.bn1.weight\n",
      "backbone.layer2.1.bn1.bias\n",
      "backbone.layer2.1.bn1.running_mean\n",
      "backbone.layer2.1.bn1.running_var\n",
      "backbone.layer2.1.bn1.num_batches_tracked\n",
      "backbone.layer2.1.conv2.weight\n",
      "backbone.layer2.1.bn2.weight\n",
      "backbone.layer2.1.bn2.bias\n",
      "backbone.layer2.1.bn2.running_mean\n",
      "backbone.layer2.1.bn2.running_var\n",
      "backbone.layer2.1.bn2.num_batches_tracked\n",
      "backbone.layer3.0.conv1.weight\n",
      "backbone.layer3.0.bn1.weight\n",
      "backbone.layer3.0.bn1.bias\n",
      "backbone.layer3.0.bn1.running_mean\n",
      "backbone.layer3.0.bn1.running_var\n",
      "backbone.layer3.0.bn1.num_batches_tracked\n",
      "backbone.layer3.0.conv2.weight\n",
      "backbone.layer3.0.bn2.weight\n",
      "backbone.layer3.0.bn2.bias\n",
      "backbone.layer3.0.bn2.running_mean\n",
      "backbone.layer3.0.bn2.running_var\n",
      "backbone.layer3.0.bn2.num_batches_tracked\n",
      "backbone.layer3.0.downsample.0.weight\n",
      "backbone.layer3.0.downsample.1.weight\n",
      "backbone.layer3.0.downsample.1.bias\n",
      "backbone.layer3.0.downsample.1.running_mean\n",
      "backbone.layer3.0.downsample.1.running_var\n",
      "backbone.layer3.0.downsample.1.num_batches_tracked\n",
      "backbone.layer3.1.conv1.weight\n",
      "backbone.layer3.1.bn1.weight\n",
      "backbone.layer3.1.bn1.bias\n",
      "backbone.layer3.1.bn1.running_mean\n",
      "backbone.layer3.1.bn1.running_var\n",
      "backbone.layer3.1.bn1.num_batches_tracked\n",
      "backbone.layer3.1.conv2.weight\n",
      "backbone.layer3.1.bn2.weight\n",
      "backbone.layer3.1.bn2.bias\n",
      "backbone.layer3.1.bn2.running_mean\n",
      "backbone.layer3.1.bn2.running_var\n",
      "backbone.layer3.1.bn2.num_batches_tracked\n",
      "backbone.layer4.0.conv1.weight\n",
      "backbone.layer4.0.bn1.weight\n",
      "backbone.layer4.0.bn1.bias\n",
      "backbone.layer4.0.bn1.running_mean\n",
      "backbone.layer4.0.bn1.running_var\n",
      "backbone.layer4.0.bn1.num_batches_tracked\n",
      "backbone.layer4.0.conv2.weight\n",
      "backbone.layer4.0.bn2.weight\n",
      "backbone.layer4.0.bn2.bias\n",
      "backbone.layer4.0.bn2.running_mean\n",
      "backbone.layer4.0.bn2.running_var\n",
      "backbone.layer4.0.bn2.num_batches_tracked\n",
      "backbone.layer4.0.downsample.0.weight\n",
      "backbone.layer4.0.downsample.1.weight\n",
      "backbone.layer4.0.downsample.1.bias\n",
      "backbone.layer4.0.downsample.1.running_mean\n",
      "backbone.layer4.0.downsample.1.running_var\n",
      "backbone.layer4.0.downsample.1.num_batches_tracked\n",
      "backbone.layer4.1.conv1.weight\n",
      "backbone.layer4.1.bn1.weight\n",
      "backbone.layer4.1.bn1.bias\n",
      "backbone.layer4.1.bn1.running_mean\n",
      "backbone.layer4.1.bn1.running_var\n",
      "backbone.layer4.1.bn1.num_batches_tracked\n",
      "backbone.layer4.1.conv2.weight\n",
      "backbone.layer4.1.bn2.weight\n",
      "backbone.layer4.1.bn2.bias\n",
      "backbone.layer4.1.bn2.running_mean\n",
      "backbone.layer4.1.bn2.running_var\n",
      "backbone.layer4.1.bn2.num_batches_tracked\n",
      "neck.reduce_conv_c2.conv.weight\n",
      "neck.reduce_conv_c2.conv.bias\n",
      "neck.reduce_conv_c2.bn.weight\n",
      "neck.reduce_conv_c2.bn.bias\n",
      "neck.reduce_conv_c2.bn.running_mean\n",
      "neck.reduce_conv_c2.bn.running_var\n",
      "neck.reduce_conv_c2.bn.num_batches_tracked\n",
      "neck.reduce_conv_c3.conv.weight\n",
      "neck.reduce_conv_c3.conv.bias\n",
      "neck.reduce_conv_c3.bn.weight\n",
      "neck.reduce_conv_c3.bn.bias\n",
      "neck.reduce_conv_c3.bn.running_mean\n",
      "neck.reduce_conv_c3.bn.running_var\n",
      "neck.reduce_conv_c3.bn.num_batches_tracked\n",
      "neck.reduce_conv_c4.conv.weight\n",
      "neck.reduce_conv_c4.conv.bias\n",
      "neck.reduce_conv_c4.bn.weight\n",
      "neck.reduce_conv_c4.bn.bias\n",
      "neck.reduce_conv_c4.bn.running_mean\n",
      "neck.reduce_conv_c4.bn.running_var\n",
      "neck.reduce_conv_c4.bn.num_batches_tracked\n",
      "neck.reduce_conv_c5.conv.weight\n",
      "neck.reduce_conv_c5.conv.bias\n",
      "neck.reduce_conv_c5.bn.weight\n",
      "neck.reduce_conv_c5.bn.bias\n",
      "neck.reduce_conv_c5.bn.running_mean\n",
      "neck.reduce_conv_c5.bn.running_var\n",
      "neck.reduce_conv_c5.bn.num_batches_tracked\n",
      "neck.smooth_p4.conv.weight\n",
      "neck.smooth_p4.conv.bias\n",
      "neck.smooth_p4.bn.weight\n",
      "neck.smooth_p4.bn.bias\n",
      "neck.smooth_p4.bn.running_mean\n",
      "neck.smooth_p4.bn.running_var\n",
      "neck.smooth_p4.bn.num_batches_tracked\n",
      "neck.smooth_p3.conv.weight\n",
      "neck.smooth_p3.conv.bias\n",
      "neck.smooth_p3.bn.weight\n",
      "neck.smooth_p3.bn.bias\n",
      "neck.smooth_p3.bn.running_mean\n",
      "neck.smooth_p3.bn.running_var\n",
      "neck.smooth_p3.bn.num_batches_tracked\n",
      "neck.smooth_p2.conv.weight\n",
      "neck.smooth_p2.conv.bias\n",
      "neck.smooth_p2.bn.weight\n",
      "neck.smooth_p2.bn.bias\n",
      "neck.smooth_p2.bn.running_mean\n",
      "neck.smooth_p2.bn.running_var\n",
      "neck.smooth_p2.bn.num_batches_tracked\n",
      "neck.conv.0.weight\n",
      "neck.conv.0.bias\n",
      "neck.conv.1.weight\n",
      "neck.conv.1.bias\n",
      "neck.conv.1.running_mean\n",
      "neck.conv.1.running_var\n",
      "neck.conv.1.num_batches_tracked\n",
      "head.binarize.0.weight\n",
      "head.binarize.0.bias\n",
      "head.binarize.1.weight\n",
      "head.binarize.1.bias\n",
      "head.binarize.1.running_mean\n",
      "head.binarize.1.running_var\n",
      "head.binarize.1.num_batches_tracked\n",
      "head.binarize.3.weight\n",
      "head.binarize.3.bias\n",
      "head.binarize.4.weight\n",
      "head.binarize.4.bias\n",
      "head.binarize.4.running_mean\n",
      "head.binarize.4.running_var\n",
      "head.binarize.4.num_batches_tracked\n",
      "head.binarize.6.weight\n",
      "head.binarize.6.bias\n",
      "head.thresh.0.weight\n",
      "head.thresh.1.weight\n",
      "head.thresh.1.bias\n",
      "head.thresh.1.running_mean\n",
      "head.thresh.1.running_var\n",
      "head.thresh.1.num_batches_tracked\n",
      "head.thresh.3.weight\n",
      "head.thresh.3.bias\n",
      "head.thresh.4.weight\n",
      "head.thresh.4.bias\n",
      "head.thresh.4.running_mean\n",
      "head.thresh.4.running_var\n",
      "head.thresh.4.num_batches_tracked\n",
      "head.thresh.6.weight\n",
      "head.thresh.6.bias\n"
     ]
    }
   ],
   "source": [
    "for i in pretrained_weights['state_dict']:\n",
    "    print(i)"
   ]
  },
  {
   "cell_type": "code",
   "execution_count": null,
   "metadata": {},
   "outputs": [],
   "source": []
  },
  {
   "cell_type": "code",
   "execution_count": null,
   "metadata": {},
   "outputs": [],
   "source": []
  }
 ],
 "metadata": {
  "kernelspec": {
   "display_name": "DBNetOCR",
   "language": "python",
   "name": "python3"
  },
  "language_info": {
   "codemirror_mode": {
    "name": "ipython",
    "version": 3
   },
   "file_extension": ".py",
   "mimetype": "text/x-python",
   "name": "python",
   "nbconvert_exporter": "python",
   "pygments_lexer": "ipython3",
   "version": "3.8.0"
  },
  "orig_nbformat": 4,
  "vscode": {
   "interpreter": {
    "hash": "c92e60b4f9ca1717de89bfc058fc2729be378a201c3f1b57906b51fe7683b95b"
   }
  }
 },
 "nbformat": 4,
 "nbformat_minor": 2
}
